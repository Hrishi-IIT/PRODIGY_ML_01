{
 "cells": [
  {
   "cell_type": "code",
   "execution_count": 2,
   "id": "5b5d03e7-c59c-479d-8119-f963836c9b07",
   "metadata": {},
   "outputs": [],
   "source": [
    "from joblib import dump, load\n",
    "import numpy as np\n",
    "model = load('Housepricing.joblib')"
   ]
  },
  {
   "cell_type": "code",
   "execution_count": 8,
   "id": "91397cb4-d8b3-4803-af0c-e36170efb65f",
   "metadata": {},
   "outputs": [
    {
     "data": {
      "text/plain": [
       "array([22.614])"
      ]
     },
     "execution_count": 8,
     "metadata": {},
     "output_type": "execute_result"
    }
   ],
   "source": [
    "features = np.array([[-0.43942006,  9.12628155, -1.12165014, -0.27288841, -1.42262747,\n",
    "       -0.24278628, -1.31238772,  2.61111401, -9.0016859 , -0.5778192 ,\n",
    "       -0.97491834,  10.41164221, -0.86091034]])\n",
    "model.predict(features)"
   ]
  },
  {
   "cell_type": "code",
   "execution_count": null,
   "id": "13bb9a34-6aeb-4ba9-915d-e4407e3978d0",
   "metadata": {},
   "outputs": [],
   "source": []
  }
 ],
 "metadata": {
  "kernelspec": {
   "display_name": "Python 3 (ipykernel)",
   "language": "python",
   "name": "python3"
  },
  "language_info": {
   "codemirror_mode": {
    "name": "ipython",
    "version": 3
   },
   "file_extension": ".py",
   "mimetype": "text/x-python",
   "name": "python",
   "nbconvert_exporter": "python",
   "pygments_lexer": "ipython3",
   "version": "3.11.7"
  }
 },
 "nbformat": 4,
 "nbformat_minor": 5
}
